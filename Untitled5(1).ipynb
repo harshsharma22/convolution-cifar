{
  "nbformat": 4,
  "nbformat_minor": 0,
  "metadata": {
    "colab": {
      "name": "Untitled5.ipynb",
      "version": "0.3.2",
      "provenance": [],
      "collapsed_sections": []
    },
    "kernelspec": {
      "name": "python3",
      "display_name": "Python 3"
    },
    "accelerator": "GPU"
  },
  "cells": [
    {
      "metadata": {
        "id": "oxMCZzucFBSm",
        "colab_type": "code",
        "colab": {
          "base_uri": "https://localhost:8080/",
          "height": 34
        },
        "outputId": "d7fa209f-5584-4877-c460-b8a8da7cfb01"
      },
      "cell_type": "code",
      "source": [
        "import keras\n",
        "from keras.layers import Dense,Activation,Conv2D,MaxPooling2D,Flatten,Dropout\n",
        "from keras.models import Sequential\n",
        "from keras.datasets import cifar10\n"
      ],
      "execution_count": 2,
      "outputs": [
        {
          "output_type": "stream",
          "text": [
            "Using TensorFlow backend.\n"
          ],
          "name": "stderr"
        }
      ]
    },
    {
      "metadata": {
        "id": "r213B4ObHKy8",
        "colab_type": "code",
        "colab": {
          "base_uri": "https://localhost:8080/",
          "height": 69
        },
        "outputId": "0cb957b8-c83c-41f5-9760-97af0a87c154"
      },
      "cell_type": "code",
      "source": [
        "(x_train,y_train),(x_test,y_test) = cifar10.load_data()\n",
        "print(x_train.shape)\n",
        "x_train = x_train.astype('float32')\n",
        "x_test = x_test.astype('float32')\n",
        "\n",
        "x_train/=255\n",
        "x_test/=255\n",
        "y_train = keras.utils.to_categorical(y_train,10)\n",
        "y_test = keras.utils.to_categorical(y_test,10)\n"
      ],
      "execution_count": 3,
      "outputs": [
        {
          "output_type": "stream",
          "text": [
            "Downloading data from https://www.cs.toronto.edu/~kriz/cifar-10-python.tar.gz\n",
            "170500096/170498071 [==============================] - 278s 2us/step\n",
            "(50000, 32, 32, 3)\n"
          ],
          "name": "stdout"
        }
      ]
    },
    {
      "metadata": {
        "id": "T45nwv0_H0yX",
        "colab_type": "code",
        "colab": {
          "base_uri": "https://localhost:8080/",
          "height": 1528
        },
        "outputId": "8c0366ec-ed20-497c-9ea9-7206d64600c1"
      },
      "cell_type": "code",
      "source": [
        "model = Sequential()\n",
        "model.add(Conv2D(32,(3,3),padding='valid',input_shape=(32,32,3)))\n",
        "model.add(Activation('relu'))\n",
        "model.add(Conv2D(32,(3,3)))\n",
        "model.add(Activation('relu'))\n",
        "\n",
        "model.add(MaxPooling2D(2,2))\n",
        "\n",
        "model.add(Dropout(0.30))\n",
        "\n",
        "model.add(Conv2D(64,(3,3)))\n",
        "model.add(Activation('relu'))\n",
        "model.add(Conv2D(64,(3,3)))\n",
        "model.add(Activation('relu'))\n",
        "model.add(MaxPooling2D(2,2))\n",
        "\n",
        "model.add(Dropout(0.30))\n",
        "\n",
        "model.add(Conv2D(128,(3,3),padding='same'))\n",
        "model.add(Activation('relu'))\n",
        "model.add(Conv2D(128,(3,3)))\n",
        "model.add(Activation('relu'))\n",
        "model.add(MaxPooling2D(2,2))\n",
        "\n",
        "\n",
        "\n",
        "model.add(Flatten())\n",
        "model.add(Dense(1024))\n",
        "model.add(Activation('relu'))\n",
        "model.add(Dropout(0.50))\n",
        "\n",
        "\n",
        "model.add(Dense(10))\n",
        "model.add(Activation('softmax'))\n",
        "model.summary(120)\n",
        "\n",
        "model.compile(loss='categorical_crossentropy',optimizer='adam',metrics=['accuracy'])\n",
        "\n",
        "model.fit(x_train,y_train,batch_size=64,epochs=15,validation_data=(x_test, y_test)) #no rum\n",
        "\n",
        "scores = model.evaluate(x_test, y_test, verbose=1)\n",
        "print('Test loss:', scores[0])\n",
        "print('Test accuracy:', scores[1])"
      ],
      "execution_count": 5,
      "outputs": [
        {
          "output_type": "stream",
          "text": [
            "________________________________________________________________________________________________________________________\n",
            "Layer (type)                                          Output Shape                                    Param #           \n",
            "========================================================================================================================\n",
            "conv2d_7 (Conv2D)                                     (None, 30, 30, 32)                              896               \n",
            "________________________________________________________________________________________________________________________\n",
            "activation_9 (Activation)                             (None, 30, 30, 32)                              0                 \n",
            "________________________________________________________________________________________________________________________\n",
            "conv2d_8 (Conv2D)                                     (None, 28, 28, 32)                              9248              \n",
            "________________________________________________________________________________________________________________________\n",
            "activation_10 (Activation)                            (None, 28, 28, 32)                              0                 \n",
            "________________________________________________________________________________________________________________________\n",
            "max_pooling2d_4 (MaxPooling2D)                        (None, 14, 14, 32)                              0                 \n",
            "________________________________________________________________________________________________________________________\n",
            "dropout_4 (Dropout)                                   (None, 14, 14, 32)                              0                 \n",
            "________________________________________________________________________________________________________________________\n",
            "conv2d_9 (Conv2D)                                     (None, 12, 12, 64)                              18496             \n",
            "________________________________________________________________________________________________________________________\n",
            "activation_11 (Activation)                            (None, 12, 12, 64)                              0                 \n",
            "________________________________________________________________________________________________________________________\n",
            "conv2d_10 (Conv2D)                                    (None, 10, 10, 64)                              36928             \n",
            "________________________________________________________________________________________________________________________\n",
            "activation_12 (Activation)                            (None, 10, 10, 64)                              0                 \n",
            "________________________________________________________________________________________________________________________\n",
            "max_pooling2d_5 (MaxPooling2D)                        (None, 5, 5, 64)                                0                 \n",
            "________________________________________________________________________________________________________________________\n",
            "dropout_5 (Dropout)                                   (None, 5, 5, 64)                                0                 \n",
            "________________________________________________________________________________________________________________________\n",
            "conv2d_11 (Conv2D)                                    (None, 5, 5, 128)                               73856             \n",
            "________________________________________________________________________________________________________________________\n",
            "activation_13 (Activation)                            (None, 5, 5, 128)                               0                 \n",
            "________________________________________________________________________________________________________________________\n",
            "conv2d_12 (Conv2D)                                    (None, 3, 3, 128)                               147584            \n",
            "________________________________________________________________________________________________________________________\n",
            "activation_14 (Activation)                            (None, 3, 3, 128)                               0                 \n",
            "________________________________________________________________________________________________________________________\n",
            "max_pooling2d_6 (MaxPooling2D)                        (None, 1, 1, 128)                               0                 \n",
            "________________________________________________________________________________________________________________________\n",
            "flatten_2 (Flatten)                                   (None, 128)                                     0                 \n",
            "________________________________________________________________________________________________________________________\n",
            "dense_3 (Dense)                                       (None, 1024)                                    132096            \n",
            "________________________________________________________________________________________________________________________\n",
            "activation_15 (Activation)                            (None, 1024)                                    0                 \n",
            "________________________________________________________________________________________________________________________\n",
            "dropout_6 (Dropout)                                   (None, 1024)                                    0                 \n",
            "________________________________________________________________________________________________________________________\n",
            "dense_4 (Dense)                                       (None, 10)                                      10250             \n",
            "________________________________________________________________________________________________________________________\n",
            "activation_16 (Activation)                            (None, 10)                                      0                 \n",
            "========================================================================================================================\n",
            "Total params: 429,354\n",
            "Trainable params: 429,354\n",
            "Non-trainable params: 0\n",
            "________________________________________________________________________________________________________________________\n",
            "Train on 50000 samples, validate on 10000 samples\n",
            "Epoch 1/15\n",
            "50000/50000 [==============================] - 22s 448us/step - loss: 1.6907 - acc: 0.3645 - val_loss: 1.3510 - val_acc: 0.4996\n",
            "Epoch 2/15\n",
            "50000/50000 [==============================] - 22s 433us/step - loss: 1.2531 - acc: 0.5482 - val_loss: 1.0856 - val_acc: 0.6128\n",
            "Epoch 3/15\n",
            "50000/50000 [==============================] - 22s 433us/step - loss: 1.0613 - acc: 0.6237 - val_loss: 1.0142 - val_acc: 0.6408\n",
            "Epoch 4/15\n",
            "50000/50000 [==============================] - 22s 433us/step - loss: 0.9491 - acc: 0.6627 - val_loss: 0.8663 - val_acc: 0.6936\n",
            "Epoch 5/15\n",
            "50000/50000 [==============================] - 22s 432us/step - loss: 0.8655 - acc: 0.6977 - val_loss: 0.8129 - val_acc: 0.7195\n",
            "Epoch 6/15\n",
            "50000/50000 [==============================] - 21s 429us/step - loss: 0.8092 - acc: 0.7184 - val_loss: 0.7500 - val_acc: 0.7398\n",
            "Epoch 7/15\n",
            "50000/50000 [==============================] - 22s 432us/step - loss: 0.7736 - acc: 0.7284 - val_loss: 0.7891 - val_acc: 0.7262\n",
            "Epoch 8/15\n",
            "50000/50000 [==============================] - 22s 434us/step - loss: 0.7365 - acc: 0.7434 - val_loss: 0.7563 - val_acc: 0.7400\n",
            "Epoch 9/15\n",
            "50000/50000 [==============================] - 22s 431us/step - loss: 0.7106 - acc: 0.7504 - val_loss: 0.7168 - val_acc: 0.7551\n",
            "Epoch 10/15\n",
            "50000/50000 [==============================] - 22s 432us/step - loss: 0.6857 - acc: 0.7597 - val_loss: 0.7236 - val_acc: 0.7539\n",
            "Epoch 11/15\n",
            "50000/50000 [==============================] - 22s 432us/step - loss: 0.6617 - acc: 0.7686 - val_loss: 0.7303 - val_acc: 0.7543\n",
            "Epoch 12/15\n",
            "50000/50000 [==============================] - 22s 432us/step - loss: 0.6473 - acc: 0.7737 - val_loss: 0.7064 - val_acc: 0.7590\n",
            "Epoch 13/15\n",
            "50000/50000 [==============================] - 22s 433us/step - loss: 0.6291 - acc: 0.7785 - val_loss: 0.7309 - val_acc: 0.7554\n",
            "Epoch 14/15\n",
            "50000/50000 [==============================] - 22s 433us/step - loss: 0.6115 - acc: 0.7865 - val_loss: 0.6702 - val_acc: 0.7704\n",
            "Epoch 15/15\n",
            "50000/50000 [==============================] - 22s 432us/step - loss: 0.5996 - acc: 0.7863 - val_loss: 0.6675 - val_acc: 0.7746\n",
            "10000/10000 [==============================] - 2s 168us/step\n",
            "Test loss: 0.6674911108493805\n",
            "Test accuracy: 0.7746\n"
          ],
          "name": "stdout"
        }
      ]
    }
  ]
}